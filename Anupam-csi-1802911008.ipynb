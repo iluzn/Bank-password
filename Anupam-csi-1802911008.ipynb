{
 "cells": [
  {
   "cell_type": "code",
   "execution_count": 8,
   "metadata": {},
   "outputs": [
    {
     "name": "stdout",
     "output_type": "stream",
     "text": [
      "Name: Rohan Singh\n",
      "DOB: 26-12-1905\n",
      "Contact: 9784000910\n",
      "\n",
      "Password:978ngh1905\n"
     ]
    }
   ],
   "source": [
    "def makePassword(name, dob, contact):\n",
    "    temp = contact[:3] + name[len(name)-3:] + dob[len(dob)-4:]\n",
    "    return temp\n",
    "\n",
    "name = input(\"Name: \")\n",
    "dob = input(\"DOB: \")\n",
    "contact = input(\"Contact: \")\n",
    "password = makePassword(name, dob, contact)\n",
    "print(\"\\nPassword:\"+ password)"
   ]
  },
  {
   "cell_type": "code",
   "execution_count": 9,
   "metadata": {},
   "outputs": [
    {
     "name": "stdout",
     "output_type": "stream",
     "text": [
      "Name: Anupam Kushwaha\n",
      "DOB: 20-08-1999\n",
      "Contact: 1234567890\n",
      "\n",
      "Password:123aha1999\n"
     ]
    }
   ],
   "source": [
    "name = input(\"Name: \")\n",
    "dob = input(\"DOB: \")\n",
    "contact = input(\"Contact: \")\n",
    "password = makePassword(name, dob, contact)\n",
    "print(\"\\nPassword:\"+ password)"
   ]
  }
 ],
 "metadata": {
  "kernelspec": {
   "display_name": "Python 3",
   "language": "python",
   "name": "python3"
  },
  "language_info": {
   "codemirror_mode": {
    "name": "ipython",
    "version": 3
   },
   "file_extension": ".py",
   "mimetype": "text/x-python",
   "name": "python",
   "nbconvert_exporter": "python",
   "pygments_lexer": "ipython3",
   "version": "3.8.3"
  }
 },
 "nbformat": 4,
 "nbformat_minor": 4
}
