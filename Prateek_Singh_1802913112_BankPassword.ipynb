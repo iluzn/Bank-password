{
 "cells": [
  {
   "cell_type": "code",
   "execution_count": 10,
   "metadata": {},
   "outputs": [
    {
     "name": "stdout",
     "output_type": "stream",
     "text": [
      "Enter name : Marshall MAtters\n",
      "Enter DOB : 14-05-1964\n",
      "Enter contact : 8923893256\n",
      "892ers9091\n"
     ]
    }
   ],
   "source": [
    "import datetime\n",
    "name, DOB, contact = input(\"Enter name : \"), input(\"Enter DOB : \"),input(\"Enter contact : \")\n",
    "d, m, y = map(int,DOB.split(\"-\"))\n",
    "try:\n",
    "    s=datetime.date(y,m,d)\n",
    "    password=contact[:3]+name[-3:]+password[-4:]\n",
    "    print(password)\n",
    "except:\n",
    "    print(\"Invalid Date\")"
   ]
  },
  {
   "cell_type": "code",
   "execution_count": null,
   "metadata": {},
   "outputs": [],
   "source": []
  }
 ],
 "metadata": {
  "kernelspec": {
   "display_name": "Python 3",
   "language": "python",
   "name": "python3"
  },
  "language_info": {
   "codemirror_mode": {
    "name": "ipython",
    "version": 3
   },
   "file_extension": ".py",
   "mimetype": "text/x-python",
   "name": "python",
   "nbconvert_exporter": "python",
   "pygments_lexer": "ipython3",
   "version": "3.7.6"
  }
 },
 "nbformat": 4,
 "nbformat_minor": 4
}
