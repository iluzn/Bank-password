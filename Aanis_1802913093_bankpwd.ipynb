{
 "cells": [
  {
   "cell_type": "code",
   "execution_count": 10,
   "metadata": {},
   "outputs": [
    {
     "name": "stdout",
     "output_type": "stream",
     "text": [
      "Name: Rohan Singh\n",
      "Contact Number: 987400910\n",
      "DOB (DD-MM-YYYY): 26-12-1905\n",
      "987ngh1905\n"
     ]
    }
   ],
   "source": [
    "name=input(\"Name: \").split()\n",
    "contact=input(\"Contact Number: \")\n",
    "dob=str(input(\"DOB (DD-MM-YYYY): \"))\n",
    "pwd = []\n",
    "pwd.append(contact[0:3])\n",
    "pwd.append(name[1][-3:])\n",
    "pwd.append(dob.split('-')[-1])\n",
    "final = ''.join(pwd)\n",
    "print(final)"
   ]
  },
  {
   "cell_type": "code",
   "execution_count": null,
   "metadata": {},
   "outputs": [],
   "source": []
  }
 ],
 "metadata": {
  "kernelspec": {
   "display_name": "Python 3",
   "language": "python",
   "name": "python3"
  },
  "language_info": {
   "codemirror_mode": {
    "name": "ipython",
    "version": 3
   },
   "file_extension": ".py",
   "mimetype": "text/x-python",
   "name": "python",
   "nbconvert_exporter": "python",
   "pygments_lexer": "ipython3",
   "version": "3.8.3"
  }
 },
 "nbformat": 4,
 "nbformat_minor": 4
}
